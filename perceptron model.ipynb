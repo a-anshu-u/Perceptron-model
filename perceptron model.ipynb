{
 "cells": [
  {
   "cell_type": "code",
   "execution_count": 1,
   "metadata": {},
   "outputs": [
    {
     "name": "stdout",
     "output_type": "stream",
     "text": [
      "Decision for inputs [1, 1, 1, 1, 1]: Buy\n",
      "Decision for inputs [1, 0, 1, 0, 1]: Not buy\n",
      "Decision for inputs [0, 1, 0, 1, 0]: Not buy\n",
      "Decision for inputs [0, 0, 1, 1, 1]: Not buy\n",
      "Decision for inputs [1, 1, 1, 0, 1]: Buy\n",
      "Decision for inputs [0, 0, 0, 0, 0]: Not buy\n"
     ]
    }
   ],
   "source": [
    "class Perceptron:\n",
    "    def __init__(self, weights, threshold):\n",
    "        self.weights = weights\n",
    "        self.threshold = threshold\n",
    "\n",
    "    def predict(self, inputs):\n",
    "        weighted_sum = sum(w * x for w, x in zip(self.weights, inputs))\n",
    "        return 1 if weighted_sum >= self.threshold else 0\n",
    "\n",
    "    def train(self, inputs, target):\n",
    "        prediction = self.predict(inputs)\n",
    "        error = target - prediction\n",
    "        if error != 0:\n",
    "            # Adjust weights based on the error\n",
    "            self.weights = [w + error * x for w, x in zip(self.weights, inputs)]\n",
    "\n",
    "\n",
    "# Criteria and Weights\n",
    "weights = [0.7, 0.4, 0.6, 0.5, 0.3]\n",
    "threshold = 1.8\n",
    "\n",
    "# Initialize Perceptron\n",
    "perceptron = Perceptron(weights, threshold)\n",
    "\n",
    "# Input example: [Earnings Report, Market Trend, Growing Industry, Recent News, Analyst Recommendations]\n",
    "inputs = [\n",
    "    [1, 1, 1, 1, 1],  # All positive\n",
    "    [1, 0, 1, 0, 1],  # Mixed\n",
    "    [0, 1, 0, 1, 0],  # Mixed\n",
    "    [0, 0, 1, 1, 1],  # Mixed\n",
    "    [1, 1, 1, 0, 1],  # Mixed\n",
    "    [0, 0, 0, 0, 0]   # All negative\n",
    "]\n",
    "\n",
    "# Make predictions\n",
    "for example in inputs:\n",
    "    decision = perceptron.predict(example)\n",
    "    print(f\"Decision for inputs {example}: {'Buy' if decision == 1 else 'Not buy'}\")\n"
   ]
  }
 ],
 "metadata": {
  "kernelspec": {
   "display_name": "base",
   "language": "python",
   "name": "python3"
  },
  "language_info": {
   "codemirror_mode": {
    "name": "ipython",
    "version": 3
   },
   "file_extension": ".py",
   "mimetype": "text/x-python",
   "name": "python",
   "nbconvert_exporter": "python",
   "pygments_lexer": "ipython3",
   "version": "3.9.12"
  }
 },
 "nbformat": 4,
 "nbformat_minor": 2
}
